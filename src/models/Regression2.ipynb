{
 "cells": [
  {
   "cell_type": "code",
   "execution_count": 5,
   "metadata": {},
   "outputs": [],
   "source": [
    "import pandas as pd\n",
    "import numpy as np\n",
    "from sklearn.model_selection import train_test_split\n",
    "from sklearn.preprocessing import StandardScaler, OneHotEncoder\n",
    "from sklearn.compose import ColumnTransformer\n",
    "from sklearn.pipeline import Pipeline\n",
    "from sklearn.impute import SimpleImputer\n",
    "from joblib import Memory\n",
    "import tempfile\n",
    "\n",
    "# Load the dataset\n",
    "file_path = '../../data/raw/volumes_atr_cyclists_shortterm.csv'\n",
    "df = pd.read_csv(file_path)\n",
    "\n",
    "#Convert datetime strings to datetime objects\n",
    "df['datetime_bin_start'] = pd.to_datetime(df['datetime_bin_start'])\n",
    "\n",
    "# Extract additional time-based features\n",
    "df['hour'] = df['datetime_bin_start'].dt.hour\n",
    "df['day_of_week'] = df['datetime_bin_start'].dt.dayofweek\n",
    "df['month'] = df['datetime_bin_start'].dt.month\n",
    "\n",
    "# Define features\n",
    "numeric_features = ['hour', 'day_of_week', 'month', 'daily_temperature', 'daily_precipitation']\n",
    "categorical_features = [ 'direction','location','class_type']\n",
    "\n",
    "# Combine all features\n",
    "features = numeric_features + categorical_features\n",
    "X = df[features]\n",
    "y = df['volume']\n",
    "\n",
    "# Split the data\n",
    "X_train, X_test, y_train, y_test = train_test_split(X, y, test_size=0.2, random_state=42)\n",
    "\n",
    "# Create a temporary directory for caching\n",
    "cachedir = tempfile.mkdtemp()\n",
    "\n",
    "# Initialize memory for caching\n",
    "memory = Memory(location=cachedir, verbose=0)\n",
    "\n",
    "# Create preprocessing steps\n",
    "numeric_transformer = Pipeline(steps=[\n",
    "    ('imputer', SimpleImputer(strategy='median')),\n",
    "    ('scaler', StandardScaler())\n",
    "])\n",
    "\n",
    "categorical_transformer = Pipeline(steps=[\n",
    "    ('imputer', SimpleImputer(strategy='constant', fill_value='missing')),\n",
    "    ('onehot', OneHotEncoder(handle_unknown='ignore'))\n",
    "])\n",
    "\n",
    "# Combine preprocessing steps\n",
    "preprocessor = ColumnTransformer(\n",
    "    transformers=[\n",
    "        ('num', numeric_transformer, numeric_features),\n",
    "        ('cat', categorical_transformer, categorical_features)\n",
    "    ])"
   ]
  },
  {
   "cell_type": "markdown",
   "metadata": {},
   "source": [
    "Support Vector Regression (SVR):"
   ]
  },
  {
   "cell_type": "code",
   "execution_count": 7,
   "metadata": {},
   "outputs": [
    {
     "name": "stdout",
     "output_type": "stream",
     "text": [
      "\n",
      "Support Vector Regression Results:\n",
      "Mean Squared Error: 2604.806651510767\n",
      "R2 Score: 0.24585456994800547\n"
     ]
    }
   ],
   "source": [
    "from sklearn.svm import SVR\n",
    "from sklearn.metrics import mean_squared_error, r2_score\n",
    "\n",
    "svr_pipeline = Pipeline(steps=[('preprocessor', preprocessor),\n",
    "                               ('regressor', SVR())])\n",
    "\n",
    "svr_pipeline.fit(X_train, y_train)\n",
    "svr_predictions = svr_pipeline.predict(X_test)\n",
    "\n",
    "svr_mse = mean_squared_error(y_test, svr_predictions)\n",
    "svr_r2 = r2_score(y_test, svr_predictions)\n",
    "\n",
    "print(\"\\nSupport Vector Regression Results:\")\n",
    "print(f\"Mean Squared Error: {svr_mse}\")\n",
    "print(f\"R2 Score: {svr_r2}\")"
   ]
  },
  {
   "cell_type": "markdown",
   "metadata": {},
   "source": [
    "Gradient Boosting Regression:"
   ]
  },
  {
   "cell_type": "code",
   "execution_count": 8,
   "metadata": {},
   "outputs": [
    {
     "name": "stdout",
     "output_type": "stream",
     "text": [
      "\n",
      "Gradient Boosting Regression Results:\n",
      "Mean Squared Error: 1686.6199945687417\n",
      "R2 Score: 0.5116886082885992\n"
     ]
    }
   ],
   "source": [
    "from sklearn.ensemble import GradientBoostingRegressor\n",
    "\n",
    "gbr_pipeline = Pipeline(steps=[('preprocessor', preprocessor),\n",
    "                               ('regressor', GradientBoostingRegressor(random_state=42))\n",
    "                               ], memory=memory)\n",
    "\n",
    "gbr_pipeline.fit(X_train, y_train)\n",
    "gbr_predictions = gbr_pipeline.predict(X_test)\n",
    "\n",
    "gbr_mse = mean_squared_error(y_test, gbr_predictions)\n",
    "gbr_r2 = r2_score(y_test, gbr_predictions)\n",
    "\n",
    "print(\"\\nGradient Boosting Regression Results:\")\n",
    "print(f\"Mean Squared Error: {gbr_mse}\")\n",
    "print(f\"R2 Score: {gbr_r2}\")"
   ]
  },
  {
   "cell_type": "markdown",
   "metadata": {},
   "source": [
    "K-Nearest Neighbors Regression:"
   ]
  },
  {
   "cell_type": "code",
   "execution_count": 10,
   "metadata": {},
   "outputs": [
    {
     "name": "stdout",
     "output_type": "stream",
     "text": [
      "\n",
      "K-Nearest Neighbors Regression Results:\n",
      "Mean Squared Error: 1222.2498680926915\n",
      "R2 Score: 0.6461333696805687\n"
     ]
    }
   ],
   "source": [
    "from sklearn.neighbors import KNeighborsRegressor\n",
    "\n",
    "knn_pipeline = Pipeline(steps=[('preprocessor', preprocessor),\n",
    "                               ('regressor', KNeighborsRegressor())])\n",
    "\n",
    "knn_pipeline.fit(X_train, y_train)\n",
    "knn_predictions = knn_pipeline.predict(X_test)\n",
    "\n",
    "knn_mse = mean_squared_error(y_test, knn_predictions)\n",
    "knn_r2 = r2_score(y_test, knn_predictions)\n",
    "\n",
    "print(\"\\nK-Nearest Neighbors Regression Results:\")\n",
    "print(f\"Mean Squared Error: {knn_mse}\")\n",
    "print(f\"R2 Score: {knn_r2}\")"
   ]
  },
  {
   "cell_type": "markdown",
   "metadata": {},
   "source": []
  },
  {
   "cell_type": "code",
   "execution_count": 15,
   "metadata": {},
   "outputs": [
    {
     "name": "stdout",
     "output_type": "stream",
     "text": [
      "Best parameters: {'regressor__max_depth': 15, 'regressor__min_samples_leaf': 1, 'regressor__min_samples_split': 2, 'regressor__n_estimators': 60}\n",
      "Best negative MSE: -1171.7833983858823\n",
      "\n",
      "Random Forest Regression Results:\n",
      "Mean Squared Error: 1058.8169356315643\n",
      "R2 Score: 0.6934505857449818\n"
     ]
    }
   ],
   "source": [
    "from sklearn.model_selection import GridSearchCV\n",
    "from sklearn.ensemble import RandomForestRegressor\n",
    "\n",
    "# Define the pipeline\n",
    "rf_pipeline = Pipeline(steps=[('preprocessor', preprocessor),\n",
    "                              ('regressor', RandomForestRegressor(random_state=42))])\n",
    "\n",
    "# Define the parameter grid\n",
    "param_grid = {\n",
    "    'regressor__n_estimators': [20, 60, 80],\n",
    "    'regressor__max_depth': [3, 5, 10, 15],  \n",
    "    'regressor__min_samples_split': [2, 5, 8],\n",
    "    'regressor__min_samples_leaf': [1, 2, 4]\n",
    "}\n",
    "\n",
    "# Create the grid search object\n",
    "grid_search = GridSearchCV(rf_pipeline, param_grid, cv=5, scoring='neg_mean_squared_error', n_jobs=-1)\n",
    "\n",
    "# Fit the grid search\n",
    "grid_search.fit(X_train, y_train)\n",
    "\n",
    "# Print the best parameters and score\n",
    "print(\"Best parameters:\", grid_search.best_params_)\n",
    "print(\"Best negative MSE:\", grid_search.best_score_)\n",
    "\n",
    "# Use the best model for predictions\n",
    "best_rf_model = grid_search.best_estimator_\n",
    "rf_predictions = best_rf_model.predict(X_test)\n",
    "\n",
    "# Evaluate the model\n",
    "rf_mse = mean_squared_error(y_test, rf_predictions)\n",
    "rf_r2 = r2_score(y_test, rf_predictions)\n",
    "\n",
    "print(\"\\nRandom Forest Regression Results:\")\n",
    "print(f\"Mean Squared Error: {rf_mse}\")\n",
    "print(f\"R2 Score: {rf_r2}\")"
   ]
  }
 ],
 "metadata": {
  "kernelspec": {
   "display_name": "venv",
   "language": "python",
   "name": "python3"
  },
  "language_info": {
   "codemirror_mode": {
    "name": "ipython",
    "version": 3
   },
   "file_extension": ".py",
   "mimetype": "text/x-python",
   "name": "python",
   "nbconvert_exporter": "python",
   "pygments_lexer": "ipython3",
   "version": "3.11.8"
  }
 },
 "nbformat": 4,
 "nbformat_minor": 2
}
